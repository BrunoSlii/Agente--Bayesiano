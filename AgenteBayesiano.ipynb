{
  "nbformat": 4,
  "nbformat_minor": 0,
  "metadata": {
    "colab": {
      "provenance": []
    },
    "kernelspec": {
      "name": "python3",
      "display_name": "Python 3"
    },
    "language_info": {
      "name": "python"
    }
  },
  "cells": [
    {
      "cell_type": "code",
      "execution_count": null,
      "metadata": {
        "id": "K-IcM3wGCfeF"
      },
      "outputs": [],
      "source": [
        "# 1. Criando a Rede Bayesiana\n",
        "probabilidades = {\n",
        "    \"HistoricoCompras\": {0: 0.7, 1: 0.3},  # 0: Não tem histórico, 1: Tem histórico\n",
        "    \"TempoNoSite\": {0: 0.6, 1: 0.4},       # 0: Pouco tempo, 1: Muito tempo\n",
        "    \"ClicouEmPromocao\": {0: 0.8, 1: 0.2},  # 0: Não clicou, 1: Clicou\n",
        "    \"Compra\": {\n",
        "        (0, 0, 0): 0.1,  # Não tem histórico, pouco tempo, não clicou\n",
        "        (0, 0, 1): 0.3,  # Não tem histórico, pouco tempo, clicou\n",
        "        (0, 1, 0): 0.2,  # Não tem histórico, muito tempo, não clicou\n",
        "        (0, 1, 1): 0.6,  # Não tem histórico, muito tempo, clicou\n",
        "        (1, 0, 0): 0.4,  # Tem histórico, pouco tempo, não clicou\n",
        "        (1, 0, 1): 0.7,  # Tem histórico, pouco tempo, clicou\n",
        "        (1, 1, 0): 0.8,  # Tem histórico, muito tempo, não clicou\n",
        "        (1, 1, 1): 0.9   # Tem histórico, muito tempo, clicou\n",
        "    }\n",
        "}\n",
        "\n",
        "# 2. Função para calcular a probabilidade conjunta de compra\n",
        "def calcular_probabilidade_compra(evidencias):\n",
        "    historico = evidencias[\"HistoricoCompras\"]\n",
        "    tempo = evidencias[\"TempoNoSite\"]\n",
        "    promocao = evidencias[\"ClicouEmPromocao\"]\n",
        "\n",
        "    prob_compra = probabilidades[\"Compra\"][(historico, tempo, promocao)]\n",
        "    prob_nao_compra = 1 - prob_compra\n",
        "\n",
        "    return {\"Comprar\": prob_compra, \"Não Comprar\": prob_nao_compra}\n",
        "\n",
        "# 3. Testando com o cenário descrito\n",
        "evidencias = {\n",
        "    \"HistoricoCompras\": 1,  # Cliente tem histórico de compras\n",
        "    \"TempoNoSite\": 0,       # Cliente passou pouco tempo no site\n",
        "    \"ClicouEmPromocao\": 1   # Cliente clicou em promoções\n",
        "}\n",
        "\n",
        "resultados = calcular_probabilidade_compra(evidencias)\n",
        "print(\"Probabilidades de Compra:\")\n",
        "for resultado, probabilidade in resultados.items():\n",
        "    print(f\"{resultado}: {probabilidade:.2f}\")"
      ]
    }
  ]
}